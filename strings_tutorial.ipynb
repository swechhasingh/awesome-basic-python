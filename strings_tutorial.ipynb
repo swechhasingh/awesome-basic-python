{
 "cells": [
  {
   "attachments": {},
   "cell_type": "markdown",
   "metadata": {},
   "source": [
    "references:\n",
    "* https://automatetheboringstuff.com/2e/chapter6/\n",
    "* "
   ]
  },
  {
   "attachments": {},
   "cell_type": "markdown",
   "metadata": {},
   "source": [
    "Different ways of creating strings: \n",
    "* using single quotes\n",
    "* using double quotes\n",
    "* using triple quotes\n",
    "* raw strings"
   ]
  },
  {
   "cell_type": "code",
   "execution_count": 20,
   "metadata": {},
   "outputs": [
    {
     "name": "stdout",
     "output_type": "stream",
     "text": [
      "This is Swechha's blog\n",
      "This is Swechha's blog.\n",
      "In this blog, we will learn about strings.\n",
      "This is Swechha's blog.\n",
      "\n",
      "In this blog, we will learn about strings.\n",
      "This is Swechha\\'s blog.\n",
      "C:\\Users\\swechha\\projects\\awesome-basic-python\n"
     ]
    }
   ],
   "source": [
    "single_quote_str = 'This is Swechha\\'s blog'\n",
    "print(single_quote_str)\n",
    "double_quote_str = \"This is Swechha's blog.\\nIn this blog, we will learn about strings.\"\n",
    "print(double_quote_str)\n",
    "triple_quote_str = '''This is Swechha's blog.\n",
    "\n",
    "In this blog, we will learn about strings.'''\n",
    "print(triple_quote_str)\n",
    "raw_quote_str = r'This is Swechha\\'s blog.'\n",
    "print(raw_quote_str)\n",
    "raw_quote_str = r'C:\\Users\\swechha\\projects\\awesome-basic-python'\n",
    "print(raw_quote_str)"
   ]
  },
  {
   "attachments": {},
   "cell_type": "markdown",
   "metadata": {},
   "source": [
    "indexing and slicing similar to lists\n",
    "\n"
   ]
  },
  {
   "attachments": {},
   "cell_type": "markdown",
   "metadata": {},
   "source": [
    "in and not in operator"
   ]
  },
  {
   "attachments": {},
   "cell_type": "markdown",
   "metadata": {},
   "source": [
    "Different ways of String formatting:\n"
   ]
  },
  {
   "cell_type": "code",
   "execution_count": 28,
   "metadata": {},
   "outputs": [
    {
     "name": "stdout",
     "output_type": "stream",
     "text": [
      "This is Swechha's Blog.\n",
      "This is Swechha's Blog.\n",
      "This is Swechha's Blog.\n"
     ]
    }
   ],
   "source": [
    "name = 'Swechha'\n",
    "# + operator\n",
    "s = \"This is \" + name + \"'s Blog.\"\n",
    "print(s)\n",
    "# string interpolation, %s operator\n",
    "s = \"This is %s's Blog.\" %(name)\n",
    "print(s)\n",
    "\n",
    "s = f\"This is {name}'s Blog.\"\n",
    "print(s)"
   ]
  },
  {
   "attachments": {},
   "cell_type": "markdown",
   "metadata": {},
   "source": [
    "String methods:\n",
    "upper(),lower()\n",
    "isX() here, X can be upper, lower, alpha, alnum, decimal, space, title\n",
    "startswith, endswith\n",
    "join and split (default split upon space)"
   ]
  }
 ],
 "metadata": {
  "kernelspec": {
   "display_name": "Python 3",
   "language": "python",
   "name": "python3"
  },
  "language_info": {
   "codemirror_mode": {
    "name": "ipython",
    "version": 3
   },
   "file_extension": ".py",
   "mimetype": "text/x-python",
   "name": "python",
   "nbconvert_exporter": "python",
   "pygments_lexer": "ipython3",
   "version": "3.11.1"
  },
  "orig_nbformat": 4,
  "vscode": {
   "interpreter": {
    "hash": "aee8b7b246df8f9039afb4144a1f6fd8d2ca17a180786b69acc140d282b71a49"
   }
  }
 },
 "nbformat": 4,
 "nbformat_minor": 2
}
